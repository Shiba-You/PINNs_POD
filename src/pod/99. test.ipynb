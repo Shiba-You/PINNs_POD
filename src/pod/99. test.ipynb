{
 "cells": [
  {
   "cell_type": "code",
   "execution_count": null,
   "source": [
    "import sys\r\n",
    "sys.path.append(\"../utils\")\r\n",
    "\r\n",
    "from pinns import PhysicsInformedNN\r\n",
    "from make_data import make_data\r\n",
    "from send_line import send_line\r\n",
    "from make_results import make_results\r\n",
    "\r\n",
    "\r\n",
    "import os\r\n",
    "import numpy as np\r\n",
    "import time\r\n",
    "import pandas as pd\r\n",
    "# import requests\r\n",
    "\r\n",
    "\r\n",
    "rs = 12345\r\n",
    "np.random.seed(rs)"
   ],
   "outputs": [],
   "metadata": {}
  },
  {
   "cell_type": "code",
   "execution_count": null,
   "source": [
    "path = \"../../data/circle/\"\r\n",
    "\r\n",
    "layers = [3, 20, 2]\r\n",
    "# N_rate = .1\r\n",
    "# td = 990\r\n",
    "Itration = 10**1\r\n",
    "# write_flag = False\r\n",
    "train_rate = .5\r\n",
    "N_train = .001 * train_rate\r\n",
    "\r\n",
    "snap = [10]\r\n",
    "debug = False"
   ],
   "outputs": [],
   "metadata": {}
  },
  {
   "cell_type": "code",
   "execution_count": null,
   "source": [
    "X_star, x_train, y_train, t_train, u_train, v_train, TT, UU, VV, PP = make_data(path, N_train)"
   ],
   "outputs": [],
   "metadata": {}
  },
  {
   "cell_type": "code",
   "execution_count": null,
   "source": [
    "t1 = time.time()\r\n",
    "model = PhysicsInformedNN(x_train, y_train, t_train, u_train, v_train, layers, rs, debug)\r\n",
    "model.train(Itration)\r\n",
    "t2 = time.time()\r\n",
    "elps = (t2 - t1) / 60.\r\n",
    "print(\"elps:\", elps)\r\n",
    "send_line('解析終了')"
   ],
   "outputs": [],
   "metadata": {}
  },
  {
   "cell_type": "code",
   "execution_count": null,
   "source": [
    "make_results(train_rate, model, X_star, TT, snap, UU, VV, PP, N_train, Itration, elps, rs)"
   ],
   "outputs": [],
   "metadata": {}
  },
  {
   "cell_type": "code",
   "execution_count": null,
   "source": [],
   "outputs": [],
   "metadata": {}
  }
 ],
 "metadata": {
  "orig_nbformat": 4,
  "language_info": {
   "name": "python",
   "version": "3.6.8",
   "mimetype": "text/x-python",
   "codemirror_mode": {
    "name": "ipython",
    "version": 3
   },
   "pygments_lexer": "ipython3",
   "nbconvert_exporter": "python",
   "file_extension": ".py"
  },
  "kernelspec": {
   "name": "python3",
   "display_name": "Python 3.6.8 64-bit ('.venv_tf1': venv)"
  },
  "interpreter": {
   "hash": "56948ed7c90123d3a5ff622dae67a84f5330098d4c1ca41b96f2d631b97fc333"
  }
 },
 "nbformat": 4,
 "nbformat_minor": 2
}